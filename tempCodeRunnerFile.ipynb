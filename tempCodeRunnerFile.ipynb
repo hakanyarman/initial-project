def square(x):
    return x*x

for i in range(100):
    print (f"the square of {i} is {square(i)}")




class Point():
    def __init__(self,input1,input2):
        self.x = input1
        self.y = input2 


point_a = Point(3,4)

distance_to_origin_of_point_a = (square(point_a.x) + square(point_a.y)) ** (1/2)

print(distance_to_origin_of_point_a)