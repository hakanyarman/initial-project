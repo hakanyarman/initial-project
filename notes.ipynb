{
 "cells": [
  {
   "cell_type": "code",
   "execution_count": null,
   "metadata": {},
   "outputs": [],
   "source": [
    "print('My name is Hakan')"
   ]
  },
  {
   "cell_type": "code",
   "execution_count": 1,
   "metadata": {},
   "outputs": [
    {
     "name": "stdout",
     "output_type": "stream",
     "text": [
      "Help on built-in function print in module builtins:\n",
      "\n",
      "print(...)\n",
      "    print(value, ..., sep=' ', end='\\n', file=sys.stdout, flush=False)\n",
      "    \n",
      "    Prints the values to a stream, or to sys.stdout by default.\n",
      "    Optional keyword arguments:\n",
      "    file:  a file-like object (stream); defaults to the current sys.stdout.\n",
      "    sep:   string inserted between values, default a space.\n",
      "    end:   string appended after the last value, default a newline.\n",
      "    flush: whether to forcibly flush the stream.\n",
      "\n"
     ]
    }
   ],
   "source": [
    "help(print)"
   ]
  },
  {
   "cell_type": "code",
   "execution_count": null,
   "metadata": {},
   "outputs": [],
   "source": [
    "# help komutu ile python kod parçalarının ne işe yaradığını öğrenebilirsin.\n",
    "# .ipynb (jupyter) dosyaları python kodlarını teker teker çalıştırmak içindir.\n"
   ]
  },
  {
   "cell_type": "code",
   "execution_count": null,
   "metadata": {},
   "outputs": [],
   "source": [
    "a = '12'\n",
    "b = 12\n",
    "c = 3.5\n",
    "\n",
    "type(a),type(b),type(c)\n",
    "# semantic error : program hata mesajı vermeden çalışır ancak istediğimizi yapmaz.\n",
    "\n",
    "\n"
   ]
  },
  {
   "cell_type": "code",
   "execution_count": null,
   "metadata": {},
   "outputs": [],
   "source": [
    "# variable isimlerinde keyword kullanamazsın. ör:\n",
    "class = \"12-B\"\n",
    "print(class) "
   ]
  },
  {
   "cell_type": "code",
   "execution_count": 12,
   "metadata": {},
   "outputs": [
    {
     "data": {
      "text/plain": [
       "0.9833333333333333"
      ]
     },
     "execution_count": 12,
     "metadata": {},
     "output_type": "execute_result"
    }
   ],
   "source": [
    "minute = 59\n",
    "minute/60\n",
    "# python 2' de bu işlemin sonucu 0 çıkardı. çünkü minute değişkeni de cevap gibi float olmalıydı\n",
    "\n",
    "minute = 59.0\n",
    "minute/60.0\n"
   ]
  },
  {
   "cell_type": "code",
   "execution_count": 13,
   "metadata": {},
   "outputs": [
    {
     "name": "stdout",
     "output_type": "stream",
     "text": [
      "54\n"
     ]
    }
   ],
   "source": [
    "# expressions - statements farkı \n",
    "# expression bir değere sahiptir ama statement'ın değeri yoktur.\n",
    "\n",
    "# expression:\n",
    "x = 54\n",
    "\n",
    "#statement: kod parçası\n",
    "if(x==54):\n",
    "    print(x)"
   ]
  },
  {
   "cell_type": "code",
   "execution_count": 14,
   "metadata": {},
   "outputs": [
    {
     "name": "stdout",
     "output_type": "stream",
     "text": [
      "37.204\n"
     ]
    }
   ],
   "source": [
    "miles = 26.2\n",
    "print(miles * 1.42)"
   ]
  },
  {
   "cell_type": "code",
   "execution_count": 23,
   "metadata": {},
   "outputs": [
    {
     "data": {
      "text/plain": [
       "'AliAliAli'"
      ]
     },
     "execution_count": 23,
     "metadata": {},
     "output_type": "execute_result"
    }
   ],
   "source": [
    "first_name = 'Ali'\n",
    "last_name = 'Yilmaz'\n",
    "\n",
    "' firstname : ' + first_name + ' , ' + 'lastname : ' + last_name\n",
    "\n"
   ]
  },
  {
   "cell_type": "code",
   "execution_count": 24,
   "metadata": {},
   "outputs": [
    {
     "data": {
      "text/plain": [
       "'AliAliAli'"
      ]
     },
     "execution_count": 24,
     "metadata": {},
     "output_type": "execute_result"
    }
   ],
   "source": [
    "first_name*3"
   ]
  },
  {
   "cell_type": "code",
   "execution_count": 26,
   "metadata": {},
   "outputs": [
    {
     "data": {
      "text/plain": [
       "(16.666666666666668, 16.666666666666668)"
      ]
     },
     "execution_count": 26,
     "metadata": {},
     "output_type": "execute_result"
    }
   ],
   "source": [
    "width = 50\n",
    "(width/3),(width/3.0)"
   ]
  },
  {
   "cell_type": "code",
   "execution_count": 31,
   "metadata": {},
   "outputs": [
    {
     "data": {
      "text/plain": [
       "3"
      ]
     },
     "execution_count": 31,
     "metadata": {},
     "output_type": "execute_result"
    }
   ],
   "source": [
    "string_number = '25'\n",
    "integer_number = int(string_number)\n",
    "type(integer_number)\n",
    "\n"
   ]
  },
  {
   "cell_type": "code",
   "execution_count": 32,
   "metadata": {},
   "outputs": [
    {
     "data": {
      "text/plain": [
       "3"
      ]
     },
     "execution_count": 32,
     "metadata": {},
     "output_type": "execute_result"
    }
   ],
   "source": [
    "float_number = 3.45\n",
    "int(float_number)"
   ]
  },
  {
   "cell_type": "code",
   "execution_count": 33,
   "metadata": {},
   "outputs": [
    {
     "data": {
      "text/plain": [
       "'3.45'"
      ]
     },
     "execution_count": 33,
     "metadata": {},
     "output_type": "execute_result"
    }
   ],
   "source": [
    "str(float_number)"
   ]
  },
  {
   "cell_type": "code",
   "execution_count": 40,
   "metadata": {},
   "outputs": [
    {
     "name": "stdout",
     "output_type": "stream",
     "text": [
      "<module 'math' (built-in)>\n",
      "Help on built-in function sin in module math:\n",
      "\n",
      "sin(x, /)\n",
      "    Return the sine of x (measured in radians).\n",
      "\n"
     ]
    }
   ],
   "source": [
    "import math\n",
    "print(math)\n",
    "# print(module ismi) ile module hakkında bilgi alırız.\n",
    "signal_power = 56\n",
    "noise_power = 40\n",
    "ratio = signal_power / noise_power\n",
    "decibels = 10 * math.log10(ratio)\n",
    "\n",
    "radians = 0.7\n",
    "height = math.sin(radians)\n",
    "help(math.sin) #math module ünün sin fonksiyonu ne işe yarıyor öğrendik."
   ]
  },
  {
   "cell_type": "code",
   "execution_count": 38,
   "metadata": {},
   "outputs": [
    {
     "name": "stdout",
     "output_type": "stream",
     "text": [
      "1.46128035678238 0.644217687237691\n"
     ]
    }
   ],
   "source": [
    "print(decibels,height)"
   ]
  },
  {
   "cell_type": "code",
   "execution_count": 44,
   "metadata": {},
   "outputs": [
    {
     "data": {
      "text/plain": [
       "21.902136102450463"
      ]
     },
     "execution_count": 44,
     "metadata": {},
     "output_type": "execute_result"
    }
   ],
   "source": [
    "def calcBMI(height,weight):\n",
    "    bmi = weight / (height ** 2)\n",
    "    return bmi\n",
    "\n",
    "calcBMI(1.97,85) # fonksiyonun işlemini yaptı.\n"
   ]
  },
  {
   "cell_type": "code",
   "execution_count": 49,
   "metadata": {},
   "outputs": [
    {
     "data": {
      "text/plain": [
       "function"
      ]
     },
     "execution_count": 49,
     "metadata": {},
     "output_type": "execute_result"
    }
   ],
   "source": [
    "calcBMI # fonksiyonun kendisini yazdırdı\n",
    "type(calcBMI)"
   ]
  },
  {
   "cell_type": "code",
   "execution_count": 53,
   "metadata": {},
   "outputs": [
    {
     "name": "stdout",
     "output_type": "stream",
     "text": [
      "Hakan\n",
      "Hakan\n"
     ]
    }
   ],
   "source": [
    "def print_twice(param):\n",
    "    print(param)\n",
    "    print(param)\n",
    "\n",
    "print_twice('Hakan')\n"
   ]
  },
  {
   "cell_type": "code",
   "execution_count": null,
   "metadata": {},
   "outputs": [],
   "source": [
    "# fonksiyon içerisinde tanımladığımız değişkene ve parametrelere dışardan erişemeyiz.\n",
    "\n",
    "# fruitful and void functions\n",
    "# fruitful : return ile bir değer döndürür.\n",
    "# void : değer döndürmez"
   ]
  },
  {
   "attachments": {},
   "cell_type": "markdown",
   "metadata": {},
   "source": []
  },
  {
   "cell_type": "code",
   "execution_count": null,
   "metadata": {},
   "outputs": [],
   "source": [
    "# from math import pi\n",
    "# math kütüphanesinden sadece pi değerini alır\n",
    "# from math import *\n",
    "# math kütüphanesindeki her şeyi çağırıır."
   ]
  },
  {
   "cell_type": "code",
   "execution_count": 1,
   "metadata": {},
   "outputs": [
    {
     "data": {
      "text/plain": [
       "True"
      ]
     },
     "execution_count": 1,
     "metadata": {},
     "output_type": "execute_result"
    }
   ],
   "source": [
    "x = True\n",
    "y = x or False\n",
    "y"
   ]
  },
  {
   "cell_type": "code",
   "execution_count": 7,
   "metadata": {},
   "outputs": [],
   "source": [
    "if  not(not(x!=False)):\n",
    "    pass\n"
   ]
  },
  {
   "cell_type": "code",
   "execution_count": 9,
   "metadata": {},
   "outputs": [
    {
     "ename": "IndentationError",
     "evalue": "expected an indented block after function definition on line 81 (1165788985.py, line 87)",
     "output_type": "error",
     "traceback": [
      "\u001b[1;36m  Cell \u001b[1;32mIn[9], line 87\u001b[1;36m\u001b[0m\n\u001b[1;33m    class Flight() :\u001b[0m\n\u001b[1;37m                    ^\u001b[0m\n\u001b[1;31mIndentationError\u001b[0m\u001b[1;31m:\u001b[0m expected an indented block after function definition on line 81\n"
     ]
    }
   ],
   "source": [
    "# name = input(\"What is your name:\")\n",
    "# greeting = f\"Hello {name}\"\n",
    "# print(greeting)\n",
    "\n",
    "def onlyGreetPersonWhoHasNameThatStartsWithB():\n",
    "    name = input(\"What's your name\")\n",
    "    firstLetter = name[0]\n",
    "    firstLetterCapitilaze = firstLetter.upper()\n",
    "    return f\"hello {name}\" if (firstLetterCapitilaze==\"B\") else \".\"\n",
    "\n",
    "onlyGreetPersonWhoHasNameThatStartsWithB()\n",
    "\n",
    "nameList = [\"Hakan\",\"Ahmet\",\"Halil\",\"Eren\",\"Mustafa\"]\n",
    "nameList.sort()\n",
    "\n",
    "if (\"Kerem\" in nameList):\n",
    "    print(\"Kerem listede\")\n",
    "else :\n",
    "    nameList.append(\"Kerem\")\n",
    "\n",
    "print(nameList)\n",
    "\n",
    "\n",
    "print(\"Kerem\" in nameList)\n",
    "\n",
    "nameTuple = (\"Emre\",\"Bekir\",\"Oğuz\",\"Oğuz\")\n",
    "print(nameTuple)\n",
    "\n",
    "# nameTuple[0] = \"Remzi\" => TypeError: 'tuple' object does not support item assignment\n",
    "\n",
    "nameSet = set()\n",
    "\n",
    "nameSet = {\"Hakan\",\"Ferdi\",\"Arda\",\"Salih\",\"Salih\"}\n",
    "print(nameSet , f\"the set has {len(nameSet)} elements\")\n",
    "\n",
    "# curly braces içine her türlü python kodu yazılabilir. statement haricinde.\n",
    "\n",
    "nums = {1:2,2:3}\n",
    "print(nums)\n",
    "\n",
    "nums[1] = 5\n",
    "print(nums)\n",
    "\n",
    "opponents = {\"white\" : \"black\", \"good\": \"bad\", \"short\": \"long\", \"big\": \"small\"}\n",
    "\n",
    "opponents[\"short\"] = \"tall\"\n",
    "print(opponents[\"short\"])\n",
    "\n",
    "# key ve value nun string olma zorunluluğu yok ama json'da key mutlaka string olmalı.\n",
    "\n",
    "\n",
    "def square(x):\n",
    "    return x*x\n",
    "\n",
    "for i in range(100):\n",
    "    print (f\"the square of {i} is {square(i)}\")\n",
    "\n",
    "\n",
    "\n",
    "\n",
    "class Point():\n",
    "    def __init__(self,input1,input2):\n",
    "        self.x = input1\n",
    "        self.y = input2 \n",
    "\n",
    "\n",
    "point_a = Point(3,4)\n",
    "\n",
    "distance_to_origin_of_point_a = (square(point_a.x) + square(point_a.y)) ** (1/2)\n",
    "\n",
    "print(distance_to_origin_of_point_a)\n"
   ]
  },
  {
   "cell_type": "code",
   "execution_count": 12,
   "metadata": {},
   "outputs": [
    {
     "name": "stdout",
     "output_type": "stream",
     "text": [
      "passanger Emre is added succesfully!\n",
      "passanger Hakan is added succesfully!\n",
      "passanger Cansu is added succesfully!\n",
      "flight capacity is full so Eren is could not added. \n",
      "flight capacity is full so Buse is could not added. \n",
      "name of the person is Emre, age is 24 and gender is male\n",
      "Eren is not in this flight list.\n"
     ]
    }
   ],
   "source": [
    "class Person() :\n",
    "    def __init__(self,name,age,gender) :\n",
    "        self.name = name\n",
    "        self.age = age\n",
    "        self.gender = gender\n",
    " \n",
    "\n",
    "class Flight() :\n",
    "    def __init__(self,capacity) :\n",
    "        self.capacity = capacity\n",
    "        self.passangers = []\n",
    "\n",
    "    def open_seats(self) :\n",
    "        return self.capacity - len(self.passangers)      \n",
    "\n",
    "    def add_passanger(self,person) :\n",
    "        if(self.open_seats() > 0):\n",
    "            self.passangers.append(person) \n",
    "            print(f\"passanger {person.name} is added succesfully!\")\n",
    "        else : print(f\"flight capacity is full so {person.name} is could not added. \")\n",
    "\n",
    "    def summary_of_person(self,person):\n",
    "        if(person in self.passangers):\n",
    "            print (f\"name of the person is {person.name}, age is {person.age} and gender is {person.gender}\")\n",
    "        else :\n",
    "            print (f\"{person.name} is not in this flight list.\")       \n",
    "\n",
    "      \n",
    "        \n",
    "flight1 = Flight(3)\n",
    "\n",
    "\n",
    "emre = Person(\"Emre\", 24, \"male\")\n",
    "hakan = Person(\"Hakan\", 21, \"male\")\n",
    "cansu = Person(\"Cansu\", 35, \"female\")\n",
    "eren = Person(\"Eren\", 21, \"male\")\n",
    "buse = Person(\"Buse\", 17, \"female\")\n",
    "\n",
    "people = [emre,hakan,cansu,eren,buse]\n",
    "\n",
    "for person in people:\n",
    "    flight1.add_passanger(person)\n",
    "\n",
    "\n",
    "flight1.summary_of_person(emre)\n",
    "\n",
    "flight1.summary_of_person(eren)\n",
    "\n",
    "\n",
    "\n",
    "\n",
    "\n",
    "# old version of code\n",
    "\n",
    "# flight1.add_passanger(emre)\n",
    "\n",
    "# hakan = {\n",
    "#     \"name\":\"Hakan\",\n",
    "#     \"age\":21,\n",
    "#     \"gender\":\"male\"\n",
    "# }\n",
    "\n",
    "\n",
    "# flight1.add_passanger(hakan)\n",
    "# print(flight1.open_seats())\n",
    "# flight1.add_passanger(\"emre\")\n",
    "\n",
    "# flight1.add_passanger(\"Hasan\")\n",
    "# flight1.add_passanger(\"Hamit\")\n",
    "\n",
    "\n",
    "\n",
    "\n",
    "\n",
    "# class Flight() :\n",
    "#     def __init__(self,capacity) :\n",
    "#         self.capacity = capacity\n",
    "#         self.passangers = []\n",
    "\n",
    "#     def add_passanger(self,name) :\n",
    "#         if(self.open_seats() > 0):\n",
    "#             self.passangers.append(name) \n",
    "#             print(f\"passanger {name} is added succesfully!\")\n",
    "#         else : print(f\"flight capacity is full so passsanger {name} is could not added. \")   \n",
    "\n",
    "#     def open_seats(self) :\n",
    "#         return self.capacity - len(self.passangers)    \n",
    "\n",
    "        \n",
    "# flight1 = Flight(3)\n",
    "\n",
    "# # flight1.add_passanger(\"Hakan\")\n",
    "# # print(flight1.open_seats())\n",
    "# # flight1.add_passanger(\"emre\")\n",
    "\n",
    "# # flight1.add_passanger(\"Hasan\")\n",
    "# # flight1.add_passanger(\"Hamit\")\n",
    "\n",
    "# # print(flight1.passangers)\n",
    "\n",
    "\n",
    "# people = [\"Hakan\", \"Eren\", \"Mustafa\", \"Halil\", \"Abdullah\", \"Kaan\", \"Furkan\"]\n",
    "\n",
    "# for person in people:\n",
    "#     flight1.add_passanger(person)\n",
    "\n",
    "# # name yerine object olarak person al\n"
   ]
  },
  {
   "cell_type": "code",
   "execution_count": 1,
   "metadata": {},
   "outputs": [
    {
     "name": "stdout",
     "output_type": "stream",
     "text": [
      "it works before the f function\n",
      "Hello\n",
      "it works after the f function\n"
     ]
    }
   ],
   "source": [
    "def announce(f):\n",
    "    def wrapper():\n",
    "        print(\"it works before the f function\")\n",
    "        f()\n",
    "        print(\"it works after the f function\")   \n",
    "    return wrapper    \n",
    "\n",
    "@announce\n",
    "def hello():\n",
    "    print(\"Hello\")\n",
    "\n",
    "\n",
    "hello()\n",
    "\n",
    "#Bir dekoratör, belirli bir işlevin yalnızca yetkilendirilmiş kullanıcılar tarafından çağrılmasını sağlamak için kullanılabilir"
   ]
  },
  {
   "cell_type": "code",
   "execution_count": 24,
   "metadata": {},
   "outputs": [
    {
     "name": "stdout",
     "output_type": "stream",
     "text": [
      "division by zero\n",
      "error : cannot divide by 0\n",
      "this will always execute whether there is an error or not\n"
     ]
    },
    {
     "ename": "AttributeError",
     "evalue": "'tuple' object has no attribute 'tb_frame'",
     "output_type": "error",
     "traceback": [
      "\u001b[1;31m---------------------------------------------------------------------------\u001b[0m",
      "\u001b[1;31mZeroDivisionError\u001b[0m                         Traceback (most recent call last)",
      "Cell \u001b[1;32mIn[24], line 6\u001b[0m\n\u001b[0;32m      5\u001b[0m     y \u001b[39m=\u001b[39m \u001b[39mint\u001b[39m(\u001b[39minput\u001b[39m(\u001b[39m\"\u001b[39m\u001b[39my :\u001b[39m\u001b[39m\"\u001b[39m))\n\u001b[1;32m----> 6\u001b[0m     result \u001b[39m=\u001b[39m x\u001b[39m/\u001b[39;49my\n\u001b[0;32m      7\u001b[0m \u001b[39mexcept\u001b[39;00m \u001b[39mValueError\u001b[39;00m \u001b[39mas\u001b[39;00m e:\n",
      "\u001b[1;31mZeroDivisionError\u001b[0m: division by zero",
      "\nDuring handling of the above exception, another exception occurred:\n",
      "\u001b[1;31mSystemExit\u001b[0m                                Traceback (most recent call last)",
      "    \u001b[1;31m[... skipping hidden 1 frame]\u001b[0m\n",
      "Cell \u001b[1;32mIn[24], line 15\u001b[0m\n\u001b[0;32m     14\u001b[0m     \u001b[39mprint\u001b[39m(\u001b[39m\"\u001b[39m\u001b[39merror : cannot divide by 0\u001b[39m\u001b[39m\"\u001b[39m)\n\u001b[1;32m---> 15\u001b[0m     sys\u001b[39m.\u001b[39;49mexit(\u001b[39m1\u001b[39;49m) \n\u001b[0;32m     17\u001b[0m \u001b[39melse\u001b[39;00m: \u001b[39mprint\u001b[39m(\u001b[39mf\u001b[39m\u001b[39m\"\u001b[39m\u001b[39m{\u001b[39;00mx\u001b[39m}\u001b[39;00m\u001b[39m / \u001b[39m\u001b[39m{\u001b[39;00my\u001b[39m}\u001b[39;00m\u001b[39m = \u001b[39m\u001b[39m{\u001b[39;00mresult\u001b[39m}\u001b[39;00m\u001b[39m\"\u001b[39m) \n",
      "\u001b[1;31mSystemExit\u001b[0m: 1",
      "\nDuring handling of the above exception, another exception occurred:\n",
      "\u001b[1;31mAttributeError\u001b[0m                            Traceback (most recent call last)",
      "    \u001b[1;31m[... skipping hidden 1 frame]\u001b[0m\n",
      "File \u001b[1;32m~\\AppData\\Roaming\\Python\\Python310\\site-packages\\IPython\\core\\interactiveshell.py:2047\u001b[0m, in \u001b[0;36mInteractiveShell.showtraceback\u001b[1;34m(self, exc_tuple, filename, tb_offset, exception_only, running_compiled_code)\u001b[0m\n\u001b[0;32m   2044\u001b[0m \u001b[39mif\u001b[39;00m exception_only:\n\u001b[0;32m   2045\u001b[0m     stb \u001b[39m=\u001b[39m [\u001b[39m'\u001b[39m\u001b[39mAn exception has occurred, use \u001b[39m\u001b[39m%\u001b[39m\u001b[39mtb to see \u001b[39m\u001b[39m'\u001b[39m\n\u001b[0;32m   2046\u001b[0m            \u001b[39m'\u001b[39m\u001b[39mthe full traceback.\u001b[39m\u001b[39m\\n\u001b[39;00m\u001b[39m'\u001b[39m]\n\u001b[1;32m-> 2047\u001b[0m     stb\u001b[39m.\u001b[39mextend(\u001b[39mself\u001b[39;49m\u001b[39m.\u001b[39;49mInteractiveTB\u001b[39m.\u001b[39;49mget_exception_only(etype,\n\u001b[0;32m   2048\u001b[0m                                                      value))\n\u001b[0;32m   2049\u001b[0m \u001b[39melse\u001b[39;00m:\n\u001b[0;32m   2050\u001b[0m     \u001b[39mtry\u001b[39;00m:\n\u001b[0;32m   2051\u001b[0m         \u001b[39m# Exception classes can customise their traceback - we\u001b[39;00m\n\u001b[0;32m   2052\u001b[0m         \u001b[39m# use this in IPython.parallel for exceptions occurring\u001b[39;00m\n\u001b[0;32m   2053\u001b[0m         \u001b[39m# in the engines. This should return a list of strings.\u001b[39;00m\n",
      "File \u001b[1;32m~\\AppData\\Roaming\\Python\\Python310\\site-packages\\IPython\\core\\ultratb.py:636\u001b[0m, in \u001b[0;36mListTB.get_exception_only\u001b[1;34m(self, etype, value)\u001b[0m\n\u001b[0;32m    628\u001b[0m \u001b[39mdef\u001b[39;00m \u001b[39mget_exception_only\u001b[39m(\u001b[39mself\u001b[39m, etype, value):\n\u001b[0;32m    629\u001b[0m \u001b[39m    \u001b[39m\u001b[39m\"\"\"Only print the exception type and message, without a traceback.\u001b[39;00m\n\u001b[0;32m    630\u001b[0m \n\u001b[0;32m    631\u001b[0m \u001b[39m    Parameters\u001b[39;00m\n\u001b[1;32m   (...)\u001b[0m\n\u001b[0;32m    634\u001b[0m \u001b[39m    value : exception value\u001b[39;00m\n\u001b[0;32m    635\u001b[0m \u001b[39m    \"\"\"\u001b[39;00m\n\u001b[1;32m--> 636\u001b[0m     \u001b[39mreturn\u001b[39;00m ListTB\u001b[39m.\u001b[39;49mstructured_traceback(\u001b[39mself\u001b[39;49m, etype, value)\n",
      "File \u001b[1;32m~\\AppData\\Roaming\\Python\\Python310\\site-packages\\IPython\\core\\ultratb.py:503\u001b[0m, in \u001b[0;36mListTB.structured_traceback\u001b[1;34m(self, etype, evalue, etb, tb_offset, context)\u001b[0m\n\u001b[0;32m    500\u001b[0m     chained_exc_ids\u001b[39m.\u001b[39madd(\u001b[39mid\u001b[39m(exception[\u001b[39m1\u001b[39m]))\n\u001b[0;32m    501\u001b[0m     chained_exceptions_tb_offset \u001b[39m=\u001b[39m \u001b[39m0\u001b[39m\n\u001b[0;32m    502\u001b[0m     out_list \u001b[39m=\u001b[39m (\n\u001b[1;32m--> 503\u001b[0m         \u001b[39mself\u001b[39;49m\u001b[39m.\u001b[39;49mstructured_traceback(\n\u001b[0;32m    504\u001b[0m             etype, evalue, (etb, chained_exc_ids),\n\u001b[0;32m    505\u001b[0m             chained_exceptions_tb_offset, context)\n\u001b[0;32m    506\u001b[0m         \u001b[39m+\u001b[39m chained_exception_message\n\u001b[0;32m    507\u001b[0m         \u001b[39m+\u001b[39m out_list)\n\u001b[0;32m    509\u001b[0m \u001b[39mreturn\u001b[39;00m out_list\n",
      "File \u001b[1;32m~\\AppData\\Roaming\\Python\\Python310\\site-packages\\IPython\\core\\ultratb.py:1288\u001b[0m, in \u001b[0;36mAutoFormattedTB.structured_traceback\u001b[1;34m(self, etype, value, tb, tb_offset, number_of_lines_of_context)\u001b[0m\n\u001b[0;32m   1286\u001b[0m \u001b[39melse\u001b[39;00m:\n\u001b[0;32m   1287\u001b[0m     \u001b[39mself\u001b[39m\u001b[39m.\u001b[39mtb \u001b[39m=\u001b[39m tb\n\u001b[1;32m-> 1288\u001b[0m \u001b[39mreturn\u001b[39;00m FormattedTB\u001b[39m.\u001b[39;49mstructured_traceback(\n\u001b[0;32m   1289\u001b[0m     \u001b[39mself\u001b[39;49m, etype, value, tb, tb_offset, number_of_lines_of_context)\n",
      "File \u001b[1;32m~\\AppData\\Roaming\\Python\\Python310\\site-packages\\IPython\\core\\ultratb.py:1177\u001b[0m, in \u001b[0;36mFormattedTB.structured_traceback\u001b[1;34m(self, etype, value, tb, tb_offset, number_of_lines_of_context)\u001b[0m\n\u001b[0;32m   1174\u001b[0m mode \u001b[39m=\u001b[39m \u001b[39mself\u001b[39m\u001b[39m.\u001b[39mmode\n\u001b[0;32m   1175\u001b[0m \u001b[39mif\u001b[39;00m mode \u001b[39min\u001b[39;00m \u001b[39mself\u001b[39m\u001b[39m.\u001b[39mverbose_modes:\n\u001b[0;32m   1176\u001b[0m     \u001b[39m# Verbose modes need a full traceback\u001b[39;00m\n\u001b[1;32m-> 1177\u001b[0m     \u001b[39mreturn\u001b[39;00m VerboseTB\u001b[39m.\u001b[39;49mstructured_traceback(\n\u001b[0;32m   1178\u001b[0m         \u001b[39mself\u001b[39;49m, etype, value, tb, tb_offset, number_of_lines_of_context\n\u001b[0;32m   1179\u001b[0m     )\n\u001b[0;32m   1180\u001b[0m \u001b[39melif\u001b[39;00m mode \u001b[39m==\u001b[39m \u001b[39m'\u001b[39m\u001b[39mMinimal\u001b[39m\u001b[39m'\u001b[39m:\n\u001b[0;32m   1181\u001b[0m     \u001b[39mreturn\u001b[39;00m ListTB\u001b[39m.\u001b[39mget_exception_only(\u001b[39mself\u001b[39m, etype, value)\n",
      "File \u001b[1;32m~\\AppData\\Roaming\\Python\\Python310\\site-packages\\IPython\\core\\ultratb.py:1030\u001b[0m, in \u001b[0;36mVerboseTB.structured_traceback\u001b[1;34m(self, etype, evalue, etb, tb_offset, number_of_lines_of_context)\u001b[0m\n\u001b[0;32m   1021\u001b[0m \u001b[39mdef\u001b[39;00m \u001b[39mstructured_traceback\u001b[39m(\n\u001b[0;32m   1022\u001b[0m     \u001b[39mself\u001b[39m,\n\u001b[0;32m   1023\u001b[0m     etype: \u001b[39mtype\u001b[39m,\n\u001b[1;32m   (...)\u001b[0m\n\u001b[0;32m   1027\u001b[0m     number_of_lines_of_context: \u001b[39mint\u001b[39m \u001b[39m=\u001b[39m \u001b[39m5\u001b[39m,\n\u001b[0;32m   1028\u001b[0m ):\n\u001b[0;32m   1029\u001b[0m \u001b[39m    \u001b[39m\u001b[39m\"\"\"Return a nice text document describing the traceback.\"\"\"\u001b[39;00m\n\u001b[1;32m-> 1030\u001b[0m     formatted_exception \u001b[39m=\u001b[39m \u001b[39mself\u001b[39;49m\u001b[39m.\u001b[39;49mformat_exception_as_a_whole(etype, evalue, etb, number_of_lines_of_context,\n\u001b[0;32m   1031\u001b[0m                                                            tb_offset)\n\u001b[0;32m   1033\u001b[0m     colors \u001b[39m=\u001b[39m \u001b[39mself\u001b[39m\u001b[39m.\u001b[39mColors  \u001b[39m# just a shorthand + quicker name lookup\u001b[39;00m\n\u001b[0;32m   1034\u001b[0m     colorsnormal \u001b[39m=\u001b[39m colors\u001b[39m.\u001b[39mNormal  \u001b[39m# used a lot\u001b[39;00m\n",
      "File \u001b[1;32m~\\AppData\\Roaming\\Python\\Python310\\site-packages\\IPython\\core\\ultratb.py:935\u001b[0m, in \u001b[0;36mVerboseTB.format_exception_as_a_whole\u001b[1;34m(self, etype, evalue, etb, number_of_lines_of_context, tb_offset)\u001b[0m\n\u001b[0;32m    932\u001b[0m \u001b[39massert\u001b[39;00m \u001b[39misinstance\u001b[39m(tb_offset, \u001b[39mint\u001b[39m)\n\u001b[0;32m    933\u001b[0m head \u001b[39m=\u001b[39m \u001b[39mself\u001b[39m\u001b[39m.\u001b[39mprepare_header(etype, \u001b[39mself\u001b[39m\u001b[39m.\u001b[39mlong_header)\n\u001b[0;32m    934\u001b[0m records \u001b[39m=\u001b[39m (\n\u001b[1;32m--> 935\u001b[0m     \u001b[39mself\u001b[39;49m\u001b[39m.\u001b[39;49mget_records(etb, number_of_lines_of_context, tb_offset) \u001b[39mif\u001b[39;00m etb \u001b[39melse\u001b[39;00m []\n\u001b[0;32m    936\u001b[0m )\n\u001b[0;32m    938\u001b[0m frames \u001b[39m=\u001b[39m []\n\u001b[0;32m    939\u001b[0m skipped \u001b[39m=\u001b[39m \u001b[39m0\u001b[39m\n",
      "File \u001b[1;32m~\\AppData\\Roaming\\Python\\Python310\\site-packages\\IPython\\core\\ultratb.py:1002\u001b[0m, in \u001b[0;36mVerboseTB.get_records\u001b[1;34m(self, etb, number_of_lines_of_context, tb_offset)\u001b[0m\n\u001b[0;32m   1000\u001b[0m tbs \u001b[39m=\u001b[39m []\n\u001b[0;32m   1001\u001b[0m \u001b[39mwhile\u001b[39;00m cf \u001b[39mis\u001b[39;00m \u001b[39mnot\u001b[39;00m \u001b[39mNone\u001b[39;00m:\n\u001b[1;32m-> 1002\u001b[0m     source_file \u001b[39m=\u001b[39m inspect\u001b[39m.\u001b[39mgetsourcefile(etb\u001b[39m.\u001b[39;49mtb_frame)\n\u001b[0;32m   1003\u001b[0m     lines, first \u001b[39m=\u001b[39m inspect\u001b[39m.\u001b[39mgetsourcelines(etb\u001b[39m.\u001b[39mtb_frame)\n\u001b[0;32m   1004\u001b[0m     max_len \u001b[39m=\u001b[39m \u001b[39mmax\u001b[39m(max_len, first \u001b[39m+\u001b[39m \u001b[39mlen\u001b[39m(lines))\n",
      "\u001b[1;31mAttributeError\u001b[0m: 'tuple' object has no attribute 'tb_frame'"
     ]
    }
   ],
   "source": [
    "import sys\n",
    "\n",
    "try:\n",
    "    x = int(input(\"x :\"))\n",
    "    y = int(input(\"y :\"))\n",
    "    result = x/y\n",
    "except ValueError as e:\n",
    "    print(e)\n",
    "    print(\"x and y must be number\")\n",
    "  \n",
    "    sys.exit()    \n",
    "except ZeroDivisionError as e:\n",
    "    print(e)\n",
    "    print(\"error : cannot divide by 0\")\n",
    "    sys.exit(1) \n",
    "\n",
    "else: print(f\"{x} / {y} = {result}\") \n",
    "\n",
    "finally: print(\"this will always execute whether there is an error or not\")\n",
    "\n"
   ]
  }
 ],
 "metadata": {
  "kernelspec": {
   "display_name": "Python 3",
   "language": "python",
   "name": "python3"
  },
  "language_info": {
   "codemirror_mode": {
    "name": "ipython",
    "version": 3
   },
   "file_extension": ".py",
   "mimetype": "text/x-python",
   "name": "python",
   "nbconvert_exporter": "python",
   "pygments_lexer": "ipython3",
   "version": "3.10.4"
  },
  "orig_nbformat": 4
 },
 "nbformat": 4,
 "nbformat_minor": 2
}
